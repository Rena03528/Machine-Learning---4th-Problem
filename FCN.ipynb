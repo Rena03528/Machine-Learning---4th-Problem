{
 "cells": [
  {
   "cell_type": "code",
   "execution_count": 25,
   "metadata": {},
   "outputs": [],
   "source": [
    "import numpy as np\n",
    "from tensorflow import keras\n",
    "from tensorflow.keras import layers\n",
    "from sklearn.model_selection import train_test_split\n",
    "from tensorflow.keras.callbacks import EarlyStopping\n",
    "import matplotlib.pyplot as plt\n",
    "from sklearn.metrics import balanced_accuracy_score"
   ]
  },
  {
   "cell_type": "markdown",
   "metadata": {},
   "source": [
    "Reshape the Input Data"
   ]
  },
  {
   "cell_type": "code",
   "execution_count": 26,
   "metadata": {},
   "outputs": [],
   "source": [
    "X_train_b = np.load(\"Xtrain2_b.npy\")\n",
    "Y_train_b = np.load(\"Ytrain2_b.npy\")\n",
    "\n",
    "X_test_b = np.load(\"Xtest2_b.npy\")\n",
    "\n",
    "Xtrain2_b_reshaped = X_train_b.reshape(547, 48, 48, 1)\n",
    "Ytrain2_b_reshaped = Y_train_b.reshape(547, 48, 48, 1)\n",
    "\n",
    "Ytrain2_b_reshaped = (Ytrain2_b_reshaped > 0).astype(np.float32)\n",
    "\n",
    "X_train, X_val, y_train, y_val = train_test_split(Xtrain2_b_reshaped, Ytrain2_b_reshaped, test_size=0.2, random_state=42)"
   ]
  },
  {
   "cell_type": "markdown",
   "metadata": {},
   "source": [
    "Define the FCN Model\n"
   ]
  },
  {
   "cell_type": "code",
   "execution_count": null,
   "metadata": {},
   "outputs": [],
   "source": [
    "def create_fcn_binary_model(input_shape):\n",
    "    inputs = keras.Input(shape=input_shape)\n",
    "\n",
    "    # Encoder\n",
    "    x = layers.Conv2D(32, kernel_size=3, activation='relu', padding='same')(inputs)\n",
    "    x = layers.MaxPooling2D(pool_size=2)(x)\n",
    "    \n",
    "    x = layers.Conv2D(64, kernel_size=3, activation='relu', padding='same')(x)\n",
    "    x = layers.MaxPooling2D(pool_size=2)(x)\n",
    "\n",
    "    x = layers.Conv2D(128, kernel_size=3, activation='relu', padding='same')(x)\n",
    "    x = layers.MaxPooling2D(pool_size=2)(x)\n",
    "\n",
    "    # Bottleneck\n",
    "    x = layers.Conv2D(256, kernel_size=3, activation='relu', padding='same')(x)\n",
    "\n",
    "    # Decoder\n",
    "    x = layers.Conv2DTranspose(128, kernel_size=3, activation='relu', padding='same')(x)\n",
    "    x = layers.UpSampling2D(size=(2, 2))(x)\n",
    "    \n",
    "    x = layers.Conv2DTranspose(64, kernel_size=3, activation='relu', padding='same')(x)\n",
    "    x = layers.UpSampling2D(size=(2, 2))(x)\n",
    "\n",
    "    x = layers.Conv2DTranspose(32, kernel_size=3, activation='relu', padding='same')(x)\n",
    "    x = layers.UpSampling2D(size=(2, 2))(x)\n",
    "\n",
    "    outputs = layers.Conv2D(1, kernel_size=1, activation='sigmoid')(x) \n",
    "\n",
    "    model = keras.Model(inputs=inputs, outputs=outputs)\n",
    "    return model\n",
    "\n",
    "\n",
    "input_shape = (48, 48, 1)  \n",
    "model = create_fcn_binary_model(input_shape)\n",
    "model.summary()"
   ]
  },
  {
   "cell_type": "markdown",
   "metadata": {},
   "source": [
    "Training the model"
   ]
  },
  {
   "cell_type": "code",
   "execution_count": null,
   "metadata": {},
   "outputs": [],
   "source": [
    "model.compile(optimizer='adam', loss='binary_crossentropy', metrics=['accuracy'])\n",
    "\n",
    "early_stopping = EarlyStopping(monitor='val_loss', patience=5, restore_best_weights=True)\n",
    "history = model.fit(X_train, y_train, epochs=50, batch_size=16, validation_data=(X_val, y_val), callbacks=[early_stopping])"
   ]
  },
  {
   "cell_type": "markdown",
   "metadata": {},
   "source": [
    "Model Evaluation"
   ]
  },
  {
   "cell_type": "code",
   "execution_count": null,
   "metadata": {},
   "outputs": [],
   "source": [
    "val_loss, val_accuracy = model.evaluate(X_val, y_val)\n",
    "\n",
    "print(f'Validation Loss: {val_loss:.4f}')\n",
    "print(f'Validation Accuracy: {val_accuracy:.4f}')\n",
    "\n",
    "predictions = model.predict(X_val)\n",
    "\n",
    "binary_predictions = (predictions > 0.5).astype(np.uint8)\n",
    "\n",
    "y_val_flat = y_val.ravel()\n",
    "binary_predictions_flat = binary_predictions.ravel()\n",
    "\n",
    "balanced_acc = balanced_accuracy_score(y_val_flat, binary_predictions_flat)\n",
    "\n",
    "print(f'Balanced Accuracy: {balanced_acc:.4f}')\n",
    "\n",
    "\n",
    "def plot_images(original, ground_truth, predicted, n=5):\n",
    "    plt.figure(figsize=(15, 5))\n",
    "    for i in range(n):\n",
    "        # Plot original images\n",
    "        plt.subplot(3, n, i + 1)\n",
    "        plt.imshow(original[i].reshape(48, 48), cmap='gray')\n",
    "        plt.title('Original Image')\n",
    "        plt.axis('off')\n",
    "\n",
    "        # Plot ground truth\n",
    "        plt.subplot(3, n, i + 1 + n)\n",
    "        plt.imshow(ground_truth[i].reshape(48, 48), cmap='gray')\n",
    "        plt.title('Ground Truth')\n",
    "        plt.axis('off')\n",
    "\n",
    "        # Plot predicted\n",
    "        plt.subplot(3, n, i + 1 + 2*n)\n",
    "        plt.imshow(predicted[i].reshape(48, 48), cmap='gray')\n",
    "        plt.title('Predicted')\n",
    "        plt.axis('off')\n",
    "    \n",
    "    plt.tight_layout()\n",
    "    plt.show()\n",
    "\n",
    "plot_images(X_val, y_val, binary_predictions)\n"
   ]
  }
 ],
 "metadata": {
  "kernelspec": {
   "display_name": ".venv",
   "language": "python",
   "name": "python3"
  },
  "language_info": {
   "codemirror_mode": {
    "name": "ipython",
    "version": 3
   },
   "file_extension": ".py",
   "mimetype": "text/x-python",
   "name": "python",
   "nbconvert_exporter": "python",
   "pygments_lexer": "ipython3",
   "version": "3.11.6"
  }
 },
 "nbformat": 4,
 "nbformat_minor": 2
}
